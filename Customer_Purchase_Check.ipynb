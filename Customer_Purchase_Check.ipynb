{
 "cells": [
  {
   "cell_type": "markdown",
   "id": "3aad8b52-d160-4e22-9aeb-66cb994b76c6",
   "metadata": {},
   "source": [
    "*1. How can the dataset be imported into a Jupyter notebook using the Pandas \n",
    "library?*"
   ]
  },
  {
   "cell_type": "code",
   "execution_count": 6,
   "id": "807cb57c-aa87-45d4-86eb-57e27070cfda",
   "metadata": {},
   "outputs": [],
   "source": [
    "import pandas as pd  #imported pandas library and then uploaded our customer_data file;\n",
    "\n",
    "data = pd.read_csv('/Users/ravisoni/Documents/customer_data.csv')"
   ]
  },
  {
   "cell_type": "code",
   "execution_count": 8,
   "id": "22a266d9-199d-4fc7-9e59-320f38f5e933",
   "metadata": {},
   "outputs": [
    {
     "data": {
      "text/html": [
       "<div>\n",
       "<style scoped>\n",
       "    .dataframe tbody tr th:only-of-type {\n",
       "        vertical-align: middle;\n",
       "    }\n",
       "\n",
       "    .dataframe tbody tr th {\n",
       "        vertical-align: top;\n",
       "    }\n",
       "\n",
       "    .dataframe thead th {\n",
       "        text-align: right;\n",
       "    }\n",
       "</style>\n",
       "<table border=\"1\" class=\"dataframe\">\n",
       "  <thead>\n",
       "    <tr style=\"text-align: right;\">\n",
       "      <th></th>\n",
       "      <th>Age</th>\n",
       "      <th>Gender</th>\n",
       "      <th>AnnualIncome</th>\n",
       "      <th>NumberOfPurchases</th>\n",
       "      <th>ProductCategory</th>\n",
       "      <th>TimeSpentOnWebsite</th>\n",
       "      <th>LoyaltyProgram</th>\n",
       "      <th>DiscountsAvailed</th>\n",
       "      <th>PurchaseStatus</th>\n",
       "    </tr>\n",
       "  </thead>\n",
       "  <tbody>\n",
       "    <tr>\n",
       "      <th>0</th>\n",
       "      <td>40.0</td>\n",
       "      <td>Female</td>\n",
       "      <td>66120.267939</td>\n",
       "      <td>8.0</td>\n",
       "      <td>Electronics</td>\n",
       "      <td>30.568601</td>\n",
       "      <td>No</td>\n",
       "      <td>5</td>\n",
       "      <td>Yes</td>\n",
       "    </tr>\n",
       "    <tr>\n",
       "      <th>1</th>\n",
       "      <td>20.0</td>\n",
       "      <td>Female</td>\n",
       "      <td>23579.773583</td>\n",
       "      <td>4.0</td>\n",
       "      <td>Home Goods</td>\n",
       "      <td>38.240097</td>\n",
       "      <td>No</td>\n",
       "      <td>5</td>\n",
       "      <td>No</td>\n",
       "    </tr>\n",
       "    <tr>\n",
       "      <th>2</th>\n",
       "      <td>27.0</td>\n",
       "      <td>Female</td>\n",
       "      <td>127821.306432</td>\n",
       "      <td>11.0</td>\n",
       "      <td>Home Goods</td>\n",
       "      <td>31.633212</td>\n",
       "      <td>Yes</td>\n",
       "      <td>0</td>\n",
       "      <td>Yes</td>\n",
       "    </tr>\n",
       "    <tr>\n",
       "      <th>3</th>\n",
       "      <td>24.0</td>\n",
       "      <td>Female</td>\n",
       "      <td>137798.623120</td>\n",
       "      <td>19.0</td>\n",
       "      <td>Beauty</td>\n",
       "      <td>46.167059</td>\n",
       "      <td>No</td>\n",
       "      <td>4</td>\n",
       "      <td>Yes</td>\n",
       "    </tr>\n",
       "    <tr>\n",
       "      <th>4</th>\n",
       "      <td>31.0</td>\n",
       "      <td>Female</td>\n",
       "      <td>99300.964220</td>\n",
       "      <td>19.0</td>\n",
       "      <td>Clothing</td>\n",
       "      <td>19.823592</td>\n",
       "      <td>No</td>\n",
       "      <td>0</td>\n",
       "      <td>Yes</td>\n",
       "    </tr>\n",
       "    <tr>\n",
       "      <th>...</th>\n",
       "      <td>...</td>\n",
       "      <td>...</td>\n",
       "      <td>...</td>\n",
       "      <td>...</td>\n",
       "      <td>...</td>\n",
       "      <td>...</td>\n",
       "      <td>...</td>\n",
       "      <td>...</td>\n",
       "      <td>...</td>\n",
       "    </tr>\n",
       "    <tr>\n",
       "      <th>1495</th>\n",
       "      <td>39.0</td>\n",
       "      <td>Female</td>\n",
       "      <td>65048.141834</td>\n",
       "      <td>13.0</td>\n",
       "      <td>Electronics</td>\n",
       "      <td>34.590743</td>\n",
       "      <td>No</td>\n",
       "      <td>5</td>\n",
       "      <td>Yes</td>\n",
       "    </tr>\n",
       "    <tr>\n",
       "      <th>1496</th>\n",
       "      <td>67.0</td>\n",
       "      <td>Female</td>\n",
       "      <td>28775.331069</td>\n",
       "      <td>18.0</td>\n",
       "      <td>Home Goods</td>\n",
       "      <td>17.625707</td>\n",
       "      <td>No</td>\n",
       "      <td>1</td>\n",
       "      <td>Yes</td>\n",
       "    </tr>\n",
       "    <tr>\n",
       "      <th>1497</th>\n",
       "      <td>40.0</td>\n",
       "      <td>Female</td>\n",
       "      <td>57363.247541</td>\n",
       "      <td>7.0</td>\n",
       "      <td>Sports</td>\n",
       "      <td>12.206033</td>\n",
       "      <td>No</td>\n",
       "      <td>0</td>\n",
       "      <td>No</td>\n",
       "    </tr>\n",
       "    <tr>\n",
       "      <th>1498</th>\n",
       "      <td>63.0</td>\n",
       "      <td>Male</td>\n",
       "      <td>134021.775532</td>\n",
       "      <td>16.0</td>\n",
       "      <td>Home Goods</td>\n",
       "      <td>37.311634</td>\n",
       "      <td>Yes</td>\n",
       "      <td>0</td>\n",
       "      <td>Yes</td>\n",
       "    </tr>\n",
       "    <tr>\n",
       "      <th>1499</th>\n",
       "      <td>50.0</td>\n",
       "      <td>Male</td>\n",
       "      <td>52625.665974</td>\n",
       "      <td>13.0</td>\n",
       "      <td>Electronics</td>\n",
       "      <td>25.348017</td>\n",
       "      <td>Yes</td>\n",
       "      <td>4</td>\n",
       "      <td>Yes</td>\n",
       "    </tr>\n",
       "  </tbody>\n",
       "</table>\n",
       "<p>1500 rows × 9 columns</p>\n",
       "</div>"
      ],
      "text/plain": [
       "       Age  Gender   AnnualIncome  NumberOfPurchases ProductCategory  \\\n",
       "0     40.0  Female   66120.267939                8.0     Electronics   \n",
       "1     20.0  Female   23579.773583                4.0      Home Goods   \n",
       "2     27.0  Female  127821.306432               11.0      Home Goods   \n",
       "3     24.0  Female  137798.623120               19.0          Beauty   \n",
       "4     31.0  Female   99300.964220               19.0        Clothing   \n",
       "...    ...     ...            ...                ...             ...   \n",
       "1495  39.0  Female   65048.141834               13.0     Electronics   \n",
       "1496  67.0  Female   28775.331069               18.0      Home Goods   \n",
       "1497  40.0  Female   57363.247541                7.0          Sports   \n",
       "1498  63.0    Male  134021.775532               16.0      Home Goods   \n",
       "1499  50.0    Male   52625.665974               13.0     Electronics   \n",
       "\n",
       "      TimeSpentOnWebsite LoyaltyProgram  DiscountsAvailed PurchaseStatus  \n",
       "0              30.568601             No                 5            Yes  \n",
       "1              38.240097             No                 5             No  \n",
       "2              31.633212            Yes                 0            Yes  \n",
       "3              46.167059             No                 4            Yes  \n",
       "4              19.823592             No                 0            Yes  \n",
       "...                  ...            ...               ...            ...  \n",
       "1495           34.590743             No                 5            Yes  \n",
       "1496           17.625707             No                 1            Yes  \n",
       "1497           12.206033             No                 0             No  \n",
       "1498           37.311634            Yes                 0            Yes  \n",
       "1499           25.348017            Yes                 4            Yes  \n",
       "\n",
       "[1500 rows x 9 columns]"
      ]
     },
     "execution_count": 8,
     "metadata": {},
     "output_type": "execute_result"
    }
   ],
   "source": [
    "data"
   ]
  },
  {
   "cell_type": "markdown",
   "id": "b43a9b15-313a-4cf2-869b-a81cb6db471a",
   "metadata": {},
   "source": [
    "*2. Should Supervised or Unsupervised Machine Learning techniques be used for \n",
    "analyzing this dataset?*\n",
    "\n",
    "**As we have target columns or variables there like annual income and Discounts**"
   ]
  },
  {
   "cell_type": "markdown",
   "id": "157dd931-098b-4943-9d6e-9a01bd99e975",
   "metadata": {},
   "source": [
    "*3. If Supervised learning is appropriate, is this problem a Regression or \r\n",
    "Classification task?\n",
    "\n",
    "**Here we will be using Regression to make prediction over the given continuous variable like age and gender data***"
   ]
  },
  {
   "cell_type": "markdown",
   "id": "4b1c91fc-d86e-48cb-a160-9671229d31ea",
   "metadata": {},
   "source": [
    "*4. How can the quality of the dataset be evaluated, including its shape, data types, \n",
    "and distribution?*"
   ]
  },
  {
   "cell_type": "code",
   "execution_count": 10,
   "id": "1e284bd7-cc63-4063-a4e3-679aa4184f3e",
   "metadata": {},
   "outputs": [
    {
     "data": {
      "text/html": [
       "<div>\n",
       "<style scoped>\n",
       "    .dataframe tbody tr th:only-of-type {\n",
       "        vertical-align: middle;\n",
       "    }\n",
       "\n",
       "    .dataframe tbody tr th {\n",
       "        vertical-align: top;\n",
       "    }\n",
       "\n",
       "    .dataframe thead th {\n",
       "        text-align: right;\n",
       "    }\n",
       "</style>\n",
       "<table border=\"1\" class=\"dataframe\">\n",
       "  <thead>\n",
       "    <tr style=\"text-align: right;\">\n",
       "      <th></th>\n",
       "      <th>Age</th>\n",
       "      <th>AnnualIncome</th>\n",
       "      <th>NumberOfPurchases</th>\n",
       "      <th>TimeSpentOnWebsite</th>\n",
       "      <th>DiscountsAvailed</th>\n",
       "    </tr>\n",
       "  </thead>\n",
       "  <tbody>\n",
       "    <tr>\n",
       "      <th>count</th>\n",
       "      <td>1495.000000</td>\n",
       "      <td>1495.000000</td>\n",
       "      <td>1495.000000</td>\n",
       "      <td>1495.000000</td>\n",
       "      <td>1500.000000</td>\n",
       "    </tr>\n",
       "    <tr>\n",
       "      <th>mean</th>\n",
       "      <td>44.309699</td>\n",
       "      <td>84250.575795</td>\n",
       "      <td>10.418729</td>\n",
       "      <td>30.496235</td>\n",
       "      <td>2.555333</td>\n",
       "    </tr>\n",
       "    <tr>\n",
       "      <th>std</th>\n",
       "      <td>15.543686</td>\n",
       "      <td>37667.360933</td>\n",
       "      <td>5.892038</td>\n",
       "      <td>16.973948</td>\n",
       "      <td>1.705152</td>\n",
       "    </tr>\n",
       "    <tr>\n",
       "      <th>min</th>\n",
       "      <td>18.000000</td>\n",
       "      <td>20001.512518</td>\n",
       "      <td>0.000000</td>\n",
       "      <td>1.037023</td>\n",
       "      <td>0.000000</td>\n",
       "    </tr>\n",
       "    <tr>\n",
       "      <th>25%</th>\n",
       "      <td>31.000000</td>\n",
       "      <td>52847.266358</td>\n",
       "      <td>5.000000</td>\n",
       "      <td>16.227049</td>\n",
       "      <td>1.000000</td>\n",
       "    </tr>\n",
       "    <tr>\n",
       "      <th>50%</th>\n",
       "      <td>45.000000</td>\n",
       "      <td>83842.444820</td>\n",
       "      <td>11.000000</td>\n",
       "      <td>30.957377</td>\n",
       "      <td>3.000000</td>\n",
       "    </tr>\n",
       "    <tr>\n",
       "      <th>75%</th>\n",
       "      <td>57.000000</td>\n",
       "      <td>117167.772858</td>\n",
       "      <td>15.000000</td>\n",
       "      <td>44.373182</td>\n",
       "      <td>4.000000</td>\n",
       "    </tr>\n",
       "    <tr>\n",
       "      <th>max</th>\n",
       "      <td>70.000000</td>\n",
       "      <td>149785.176481</td>\n",
       "      <td>20.000000</td>\n",
       "      <td>59.991105</td>\n",
       "      <td>5.000000</td>\n",
       "    </tr>\n",
       "  </tbody>\n",
       "</table>\n",
       "</div>"
      ],
      "text/plain": [
       "               Age   AnnualIncome  NumberOfPurchases  TimeSpentOnWebsite  \\\n",
       "count  1495.000000    1495.000000        1495.000000         1495.000000   \n",
       "mean     44.309699   84250.575795          10.418729           30.496235   \n",
       "std      15.543686   37667.360933           5.892038           16.973948   \n",
       "min      18.000000   20001.512518           0.000000            1.037023   \n",
       "25%      31.000000   52847.266358           5.000000           16.227049   \n",
       "50%      45.000000   83842.444820          11.000000           30.957377   \n",
       "75%      57.000000  117167.772858          15.000000           44.373182   \n",
       "max      70.000000  149785.176481          20.000000           59.991105   \n",
       "\n",
       "       DiscountsAvailed  \n",
       "count       1500.000000  \n",
       "mean           2.555333  \n",
       "std            1.705152  \n",
       "min            0.000000  \n",
       "25%            1.000000  \n",
       "50%            3.000000  \n",
       "75%            4.000000  \n",
       "max            5.000000  "
      ]
     },
     "execution_count": 10,
     "metadata": {},
     "output_type": "execute_result"
    }
   ],
   "source": [
    "data.describe()  #It is describing the dataset;"
   ]
  },
  {
   "cell_type": "code",
   "execution_count": 12,
   "id": "dff671f9-7cfb-47be-998c-efbf4a608c3f",
   "metadata": {},
   "outputs": [
    {
     "data": {
      "text/plain": [
       "(1500, 9)"
      ]
     },
     "execution_count": 12,
     "metadata": {},
     "output_type": "execute_result"
    }
   ],
   "source": [
    "data.shape  #This piece of code is giving us the shape means total rows and columns;"
   ]
  },
  {
   "cell_type": "code",
   "execution_count": 14,
   "id": "9a61042b-df13-4ac3-83d7-0dc24323864b",
   "metadata": {},
   "outputs": [
    {
     "data": {
      "text/plain": [
       "Age                   5\n",
       "Gender                0\n",
       "AnnualIncome          5\n",
       "NumberOfPurchases     5\n",
       "ProductCategory       0\n",
       "TimeSpentOnWebsite    5\n",
       "LoyaltyProgram        0\n",
       "DiscountsAvailed      0\n",
       "PurchaseStatus        0\n",
       "dtype: int64"
      ]
     },
     "execution_count": 14,
     "metadata": {},
     "output_type": "execute_result"
    }
   ],
   "source": [
    "data.isnull().sum()  #Is is giving us the sum of the total missing values in our dataset according to the each columns;"
   ]
  },
  {
   "cell_type": "code",
   "execution_count": 16,
   "id": "85eb0bc3-f43a-4d8d-9a85-3ee954901e26",
   "metadata": {},
   "outputs": [
    {
     "data": {
      "text/plain": [
       "Age                   float64\n",
       "Gender                 object\n",
       "AnnualIncome          float64\n",
       "NumberOfPurchases     float64\n",
       "ProductCategory        object\n",
       "TimeSpentOnWebsite    float64\n",
       "LoyaltyProgram         object\n",
       "DiscountsAvailed        int64\n",
       "PurchaseStatus         object\n",
       "dtype: object"
      ]
     },
     "execution_count": 16,
     "metadata": {},
     "output_type": "execute_result"
    }
   ],
   "source": [
    "data.dtypes  #Showing each columns datatypes;"
   ]
  },
  {
   "cell_type": "markdown",
   "id": "09c26f0d-abcd-4738-84da-55211ffec15e",
   "metadata": {},
   "source": [
    "*5. What methods can be applied to identify and handle missing values in the \n",
    "dataset?*"
   ]
  },
  {
   "cell_type": "markdown",
   "id": "4525ac91-db8f-4472-b2d1-12e8a5880afc",
   "metadata": {},
   "source": [
    "data.isnull().sum()   #Identifying the missing values;"
   ]
  },
  {
   "cell_type": "code",
   "execution_count": 18,
   "id": "5c6e4a28-78ec-4852-b262-37ac8e988b85",
   "metadata": {},
   "outputs": [],
   "source": [
    "data.dropna(inplace=True)  #Removing the missing values, Dropping rown with missing values;"
   ]
  },
  {
   "cell_type": "code",
   "execution_count": 20,
   "id": "564eb24d-b644-4252-b6c8-c26328f68fbc",
   "metadata": {},
   "outputs": [],
   "source": [
    "data.fillna(data.mean(numeric_only=True), inplace=True)  #Numeric value with mean and categorical value with median;\n",
    "data.fillna(data.mode().iloc[0], inplace=True) #Filling the meaningful values as mean and median;"
   ]
  },
  {
   "cell_type": "code",
   "execution_count": 22,
   "id": "7118111c-e4b7-4af7-8297-e4d21f7529d0",
   "metadata": {},
   "outputs": [
    {
     "data": {
      "text/plain": [
       "Age                   0\n",
       "Gender                0\n",
       "AnnualIncome          0\n",
       "NumberOfPurchases     0\n",
       "ProductCategory       0\n",
       "TimeSpentOnWebsite    0\n",
       "LoyaltyProgram        0\n",
       "DiscountsAvailed      0\n",
       "PurchaseStatus        0\n",
       "dtype: int64"
      ]
     },
     "execution_count": 22,
     "metadata": {},
     "output_type": "execute_result"
    }
   ],
   "source": [
    "data.isnull().sum()"
   ]
  },
  {
   "cell_type": "markdown",
   "id": "fb38e6bf-c93e-4426-804a-2616d9f4c2a0",
   "metadata": {},
   "source": [
    "*6. What types of Exploratory Data Analysis (EDA) would be suitable for this \n",
    "dataset?*"
   ]
  },
  {
   "cell_type": "code",
   "execution_count": 24,
   "id": "c4bc9953-1f90-4bcd-84ed-269fffc79485",
   "metadata": {},
   "outputs": [],
   "source": [
    "import seaborn as sns   #imported seaborn and matplotlib for the visualisation;\n",
    "import matplotlib.pyplot as plt"
   ]
  },
  {
   "cell_type": "code",
   "execution_count": 26,
   "id": "97f02bb8-a910-4380-9c95-72586bb41120",
   "metadata": {},
   "outputs": [
    {
     "data": {
      "image/png": "[encoded data removed]",
      "text/plain": [
       "<Figure size 1200x1000 with 9 Axes>"
      ]
     },
     "metadata": {},
     "output_type": "display_data"
    }
   ],
   "source": [
    "data.hist(bins=30, figsize=(12, 10), layout=(3, 3))    #histogram for the numerical features or columns.\n",
    "plt.suptitle(\"Histograms of Numerical Columns\")\n",
    "plt.show()"
   ]
  },
  {
   "cell_type": "code",
   "execution_count": 28,
   "id": "bb2b6f79-064e-439e-b883-77b9c0eeabc4",
   "metadata": {},
   "outputs": [
    {
     "data": {
      "image/png": "[encoded data removed]",
      "text/plain": [
       "<Figure size 1200x600 with 1 Axes>"
      ]
     },
     "metadata": {},
     "output_type": "display_data"
    }
   ],
   "source": [
    "plt.figure(figsize=(12, 6))    #Here is the Bpxplot for outlier detection;\n",
    "sns.boxplot(data=data, orient=\"v\")\n",
    "plt.title(\"Boxplot of Outlier Detection\")\n",
    "plt.show()"
   ]
  },
  {
   "cell_type": "markdown",
   "id": "81f16aec-0288-4037-9bd5-38d24c2c7d93",
   "metadata": {},
   "source": [
    "*7. What techniques can be used to detect and handle outliers in the dataset?*"
   ]
  },
  {
   "cell_type": "code",
   "execution_count": 30,
   "id": "28b98f9c-6dc5-4c60-befa-321b80d10dc2",
   "metadata": {},
   "outputs": [],
   "source": [
    "import numpy as np    #imported numpy to do further analysis.\n",
    "\n",
    "num_columns = data.select_dtypes(include=[np.number]).columns"
   ]
  },
  {
   "cell_type": "code",
   "execution_count": 32,
   "id": "4a91afd2-c3c3-4234-8156-266b58668510",
   "metadata": {},
   "outputs": [],
   "source": [
    "Q1 = data[num_columns].quantile(0.25)  #Calculating IQR, Q1 and Q3\n",
    "Q3 = data[num_columns].quantile(0.75)\n",
    "IQR = Q3 - Q1"
   ]
  },
  {
   "cell_type": "code",
   "execution_count": 34,
   "id": "0b6df723-1864-4369-ae82-3b44ce048b03",
   "metadata": {},
   "outputs": [
    {
     "data": {
      "text/plain": [
       "Age                      26.000000\n",
       "AnnualIncome          64161.514332\n",
       "NumberOfPurchases        10.000000\n",
       "TimeSpentOnWebsite       28.118738\n",
       "DiscountsAvailed          3.000000\n",
       "dtype: float64"
      ]
     },
     "execution_count": 34,
     "metadata": {},
     "output_type": "execute_result"
    }
   ],
   "source": [
    "IQR   #Showed the Calculated IQR;"
   ]
  },
  {
   "cell_type": "code",
   "execution_count": 36,
   "id": "33c0680a-77d0-4678-9d00-f75e8af28837",
   "metadata": {},
   "outputs": [],
   "source": [
    "lower_bound = Q1 - 1.5 * IQR #Defining lower bound and upper bound;\n",
    "upper_bound = Q3 + 1.5 * IQR"
   ]
  },
  {
   "cell_type": "code",
   "execution_count": 38,
   "id": "644c3da5-821b-4be4-8ec2-62b3a8130995",
   "metadata": {},
   "outputs": [
    {
     "data": {
      "text/plain": [
       "Age                      -8.000000\n",
       "AnnualIncome         -43144.159471\n",
       "NumberOfPurchases       -10.000000\n",
       "TimeSpentOnWebsite      -25.942000\n",
       "DiscountsAvailed         -3.500000\n",
       "dtype: float64"
      ]
     },
     "execution_count": 38,
     "metadata": {},
     "output_type": "execute_result"
    }
   ],
   "source": [
    "lower_bound #Lower bound calculated values of numeric columns;"
   ]
  },
  {
   "cell_type": "code",
   "execution_count": 40,
   "id": "59be3b3b-7d71-4d56-9d5a-7ce6cff44bdf",
   "metadata": {},
   "outputs": [
    {
     "data": {
      "text/plain": [
       "Age                       96.000000\n",
       "AnnualIncome          213501.897857\n",
       "NumberOfPurchases         30.000000\n",
       "TimeSpentOnWebsite        86.532954\n",
       "DiscountsAvailed           8.500000\n",
       "dtype: float64"
      ]
     },
     "execution_count": 40,
     "metadata": {},
     "output_type": "execute_result"
    }
   ],
   "source": [
    "upper_bound #Upper bound calculated values of numeric columns;"
   ]
  },
  {
   "cell_type": "code",
   "execution_count": 42,
   "id": "a6419be3-ceb8-4b39-bfc9-ea3a9e1c7a65",
   "metadata": {},
   "outputs": [],
   "source": [
    "filtered_data = data[~((data[num_columns] < lower_bound) | (data[num_columns] > upper_bound)).any(axis=1)] #Filtering rows outliers or handling outliers;"
   ]
  },
  {
   "cell_type": "code",
   "execution_count": 44,
   "id": "5dc3aa9e-8a4c-40cf-b2a8-491a8d5b970e",
   "metadata": {},
   "outputs": [
    {
     "data": {
      "text/plain": [
       "(1480, 9)"
      ]
     },
     "execution_count": 44,
     "metadata": {},
     "output_type": "execute_result"
    }
   ],
   "source": [
    "filtered_data.shape  #this is showing the dataset's shape after handling outliers of theirs;"
   ]
  },
  {
   "cell_type": "markdown",
   "id": "ce290d5c-7c17-4179-88c1-d87c154125d1",
   "metadata": {},
   "source": [
    "*8. If categorical variables are present, how can they be encoded for modeling \n",
    "purposes?*"
   ]
  },
  {
   "cell_type": "code",
   "execution_count": 46,
   "id": "56ab5fd0-246e-4c1c-bfc6-37a3da34bcf5",
   "metadata": {},
   "outputs": [],
   "source": [
    "from sklearn.preprocessing import LabelEncoder #imported Label Encoder ML model using sklearn;\n",
    "\n",
    "label_enc = LabelEncoder()"
   ]
  },
  {
   "cell_type": "code",
   "execution_count": 48,
   "id": "950a31b2-2c1e-47b6-9e39-3f0e6460fb68",
   "metadata": {},
   "outputs": [],
   "source": [
    "category_col = data.select_dtypes(include=['object']).columns.tolist() #identifying the Categorical Columns;"
   ]
  },
  {
   "cell_type": "code",
   "execution_count": 50,
   "id": "a961e25d-1882-4efd-a3f4-895d15804975",
   "metadata": {},
   "outputs": [],
   "source": [
    "data_encoded = pd.get_dummies(data, columns=category_col, drop_first=True) #encoded the nominal categorical variable;"
   ]
  },
  {
   "cell_type": "code",
   "execution_count": 52,
   "id": "b6062e42-f4c6-47ee-9d0a-aa93862b57b7",
   "metadata": {},
   "outputs": [
    {
     "data": {
      "text/html": [
       "<div>\n",
       "<style scoped>\n",
       "    .dataframe tbody tr th:only-of-type {\n",
       "        vertical-align: middle;\n",
       "    }\n",
       "\n",
       "    .dataframe tbody tr th {\n",
       "        vertical-align: top;\n",
       "    }\n",
       "\n",
       "    .dataframe thead th {\n",
       "        text-align: right;\n",
       "    }\n",
       "</style>\n",
       "<table border=\"1\" class=\"dataframe\">\n",
       "  <thead>\n",
       "    <tr style=\"text-align: right;\">\n",
       "      <th></th>\n",
       "      <th>Age</th>\n",
       "      <th>AnnualIncome</th>\n",
       "      <th>NumberOfPurchases</th>\n",
       "      <th>TimeSpentOnWebsite</th>\n",
       "      <th>DiscountsAvailed</th>\n",
       "      <th>Gender_Male</th>\n",
       "      <th>ProductCategory_Clothing</th>\n",
       "      <th>ProductCategory_Electronics</th>\n",
       "      <th>ProductCategory_Home Goods</th>\n",
       "      <th>ProductCategory_Sports</th>\n",
       "      <th>LoyaltyProgram_Yes</th>\n",
       "      <th>PurchaseStatus_Yes</th>\n",
       "    </tr>\n",
       "  </thead>\n",
       "  <tbody>\n",
       "    <tr>\n",
       "      <th>0</th>\n",
       "      <td>40.0</td>\n",
       "      <td>66120.267939</td>\n",
       "      <td>8.0</td>\n",
       "      <td>30.568601</td>\n",
       "      <td>5</td>\n",
       "      <td>False</td>\n",
       "      <td>False</td>\n",
       "      <td>True</td>\n",
       "      <td>False</td>\n",
       "      <td>False</td>\n",
       "      <td>False</td>\n",
       "      <td>True</td>\n",
       "    </tr>\n",
       "    <tr>\n",
       "      <th>1</th>\n",
       "      <td>20.0</td>\n",
       "      <td>23579.773583</td>\n",
       "      <td>4.0</td>\n",
       "      <td>38.240097</td>\n",
       "      <td>5</td>\n",
       "      <td>False</td>\n",
       "      <td>False</td>\n",
       "      <td>False</td>\n",
       "      <td>True</td>\n",
       "      <td>False</td>\n",
       "      <td>False</td>\n",
       "      <td>False</td>\n",
       "    </tr>\n",
       "    <tr>\n",
       "      <th>2</th>\n",
       "      <td>27.0</td>\n",
       "      <td>127821.306432</td>\n",
       "      <td>11.0</td>\n",
       "      <td>31.633212</td>\n",
       "      <td>0</td>\n",
       "      <td>False</td>\n",
       "      <td>False</td>\n",
       "      <td>False</td>\n",
       "      <td>True</td>\n",
       "      <td>False</td>\n",
       "      <td>True</td>\n",
       "      <td>True</td>\n",
       "    </tr>\n",
       "    <tr>\n",
       "      <th>3</th>\n",
       "      <td>24.0</td>\n",
       "      <td>137798.623120</td>\n",
       "      <td>19.0</td>\n",
       "      <td>46.167059</td>\n",
       "      <td>4</td>\n",
       "      <td>False</td>\n",
       "      <td>False</td>\n",
       "      <td>False</td>\n",
       "      <td>False</td>\n",
       "      <td>False</td>\n",
       "      <td>False</td>\n",
       "      <td>True</td>\n",
       "    </tr>\n",
       "    <tr>\n",
       "      <th>4</th>\n",
       "      <td>31.0</td>\n",
       "      <td>99300.964220</td>\n",
       "      <td>19.0</td>\n",
       "      <td>19.823592</td>\n",
       "      <td>0</td>\n",
       "      <td>False</td>\n",
       "      <td>True</td>\n",
       "      <td>False</td>\n",
       "      <td>False</td>\n",
       "      <td>False</td>\n",
       "      <td>False</td>\n",
       "      <td>True</td>\n",
       "    </tr>\n",
       "  </tbody>\n",
       "</table>\n",
       "</div>"
      ],
      "text/plain": [
       "    Age   AnnualIncome  NumberOfPurchases  TimeSpentOnWebsite  \\\n",
       "0  40.0   66120.267939                8.0           30.568601   \n",
       "1  20.0   23579.773583                4.0           38.240097   \n",
       "2  27.0  127821.306432               11.0           31.633212   \n",
       "3  24.0  137798.623120               19.0           46.167059   \n",
       "4  31.0   99300.964220               19.0           19.823592   \n",
       "\n",
       "   DiscountsAvailed  Gender_Male  ProductCategory_Clothing  \\\n",
       "0                 5        False                     False   \n",
       "1                 5        False                     False   \n",
       "2                 0        False                     False   \n",
       "3                 4        False                     False   \n",
       "4                 0        False                      True   \n",
       "\n",
       "   ProductCategory_Electronics  ProductCategory_Home Goods  \\\n",
       "0                         True                       False   \n",
       "1                        False                        True   \n",
       "2                        False                        True   \n",
       "3                        False                       False   \n",
       "4                        False                       False   \n",
       "\n",
       "   ProductCategory_Sports  LoyaltyProgram_Yes  PurchaseStatus_Yes  \n",
       "0                   False               False                True  \n",
       "1                   False               False               False  \n",
       "2                   False                True                True  \n",
       "3                   False               False                True  \n",
       "4                   False               False                True  "
      ]
     },
     "execution_count": 52,
     "metadata": {},
     "output_type": "execute_result"
    }
   ],
   "source": [
    "data_encoded.head()  #Showing the top encoded dataset;"
   ]
  },
  {
   "cell_type": "markdown",
   "id": "917ae7e1-161a-4f53-992f-fd62ebdda33e",
   "metadata": {},
   "source": [
    "*9. How can data scaling techniques, such as normalization or standardization, be \n",
    "applied to the dataset?*"
   ]
  },
  {
   "cell_type": "code",
   "execution_count": 54,
   "id": "767eb641-576c-4e66-8fc2-7e0fe2f33db5",
   "metadata": {},
   "outputs": [],
   "source": [
    "from sklearn.preprocessing import StandardScaler, MinMaxScaler # imported ML models for the scalling methods;\n",
    "\n",
    "numeric_cols = data.select_dtypes(include=['int64', 'float64']).columns  #For the numeric scalling;"
   ]
  },
  {
   "cell_type": "code",
   "execution_count": 56,
   "id": "dd4fd63e-d0b1-4427-8d42-ede25fd146a6",
   "metadata": {},
   "outputs": [
    {
     "data": {
      "text/plain": [
       "Index(['Age', 'AnnualIncome', 'NumberOfPurchases', 'TimeSpentOnWebsite',\n",
       "       'DiscountsAvailed'],\n",
       "      dtype='object')"
      ]
     },
     "execution_count": 56,
     "metadata": {},
     "output_type": "execute_result"
    }
   ],
   "source": [
    "numeric_cols"
   ]
  },
  {
   "cell_type": "code",
   "execution_count": 64,
   "id": "8a5e026e-949a-4d3f-b26d-e2b8fbca35d0",
   "metadata": {},
   "outputs": [],
   "source": [
    "scaler_z = StandardScaler()    #Applying the Z-score normalization;\n",
    "data_z = data.copy()\n",
    "data_z[numeric_cols] = scaler_z.fit_transform(data[numeric_cols])"
   ]
  },
  {
   "cell_type": "code",
   "execution_count": 66,
   "id": "d861711d-a6d1-43ee-bcb9-b7cbdd5ff1ce",
   "metadata": {},
   "outputs": [],
   "source": [
    "scaler_minmax = MinMaxScaler()  #Applying minmax scalling;\n",
    "data_n = data.copy()\n",
    "data_n[numeric_cols] = scaler_minmax.fit_transform(data[numeric_cols])"
   ]
  },
  {
   "cell_type": "code",
   "execution_count": 68,
   "id": "bac7f5a2-a6ac-40b9-97db-21f355a5fa6d",
   "metadata": {},
   "outputs": [
    {
     "data": {
      "text/html": [
       "<div>\n",
       "<style scoped>\n",
       "    .dataframe tbody tr th:only-of-type {\n",
       "        vertical-align: middle;\n",
       "    }\n",
       "\n",
       "    .dataframe tbody tr th {\n",
       "        vertical-align: top;\n",
       "    }\n",
       "\n",
       "    .dataframe thead th {\n",
       "        text-align: right;\n",
       "    }\n",
       "</style>\n",
       "<table border=\"1\" class=\"dataframe\">\n",
       "  <thead>\n",
       "    <tr style=\"text-align: right;\">\n",
       "      <th></th>\n",
       "      <th>Age</th>\n",
       "      <th>Gender</th>\n",
       "      <th>AnnualIncome</th>\n",
       "      <th>NumberOfPurchases</th>\n",
       "      <th>ProductCategory</th>\n",
       "      <th>TimeSpentOnWebsite</th>\n",
       "      <th>LoyaltyProgram</th>\n",
       "      <th>DiscountsAvailed</th>\n",
       "      <th>PurchaseStatus</th>\n",
       "    </tr>\n",
       "  </thead>\n",
       "  <tbody>\n",
       "    <tr>\n",
       "      <th>0</th>\n",
       "      <td>-0.277332</td>\n",
       "      <td>Female</td>\n",
       "      <td>-0.485644</td>\n",
       "      <td>-0.411065</td>\n",
       "      <td>Electronics</td>\n",
       "      <td>0.003994</td>\n",
       "      <td>No</td>\n",
       "      <td>1.431761</td>\n",
       "      <td>Yes</td>\n",
       "    </tr>\n",
       "    <tr>\n",
       "      <th>1</th>\n",
       "      <td>-1.565225</td>\n",
       "      <td>Female</td>\n",
       "      <td>-1.615677</td>\n",
       "      <td>-1.091005</td>\n",
       "      <td>Home Goods</td>\n",
       "      <td>0.456685</td>\n",
       "      <td>No</td>\n",
       "      <td>1.431761</td>\n",
       "      <td>No</td>\n",
       "    </tr>\n",
       "    <tr>\n",
       "      <th>2</th>\n",
       "      <td>-1.114463</td>\n",
       "      <td>Female</td>\n",
       "      <td>1.153364</td>\n",
       "      <td>0.098890</td>\n",
       "      <td>Home Goods</td>\n",
       "      <td>0.066816</td>\n",
       "      <td>Yes</td>\n",
       "      <td>-1.499903</td>\n",
       "      <td>Yes</td>\n",
       "    </tr>\n",
       "    <tr>\n",
       "      <th>3</th>\n",
       "      <td>-1.307647</td>\n",
       "      <td>Female</td>\n",
       "      <td>1.418398</td>\n",
       "      <td>1.458770</td>\n",
       "      <td>Beauty</td>\n",
       "      <td>0.924450</td>\n",
       "      <td>No</td>\n",
       "      <td>0.845428</td>\n",
       "      <td>Yes</td>\n",
       "    </tr>\n",
       "    <tr>\n",
       "      <th>4</th>\n",
       "      <td>-0.856884</td>\n",
       "      <td>Female</td>\n",
       "      <td>0.395758</td>\n",
       "      <td>1.458770</td>\n",
       "      <td>Clothing</td>\n",
       "      <td>-0.630062</td>\n",
       "      <td>No</td>\n",
       "      <td>-1.499903</td>\n",
       "      <td>Yes</td>\n",
       "    </tr>\n",
       "  </tbody>\n",
       "</table>\n",
       "</div>"
      ],
      "text/plain": [
       "        Age  Gender  AnnualIncome  NumberOfPurchases ProductCategory  \\\n",
       "0 -0.277332  Female     -0.485644          -0.411065     Electronics   \n",
       "1 -1.565225  Female     -1.615677          -1.091005      Home Goods   \n",
       "2 -1.114463  Female      1.153364           0.098890      Home Goods   \n",
       "3 -1.307647  Female      1.418398           1.458770          Beauty   \n",
       "4 -0.856884  Female      0.395758           1.458770        Clothing   \n",
       "\n",
       "   TimeSpentOnWebsite LoyaltyProgram  DiscountsAvailed PurchaseStatus  \n",
       "0            0.003994             No          1.431761            Yes  \n",
       "1            0.456685             No          1.431761             No  \n",
       "2            0.066816            Yes         -1.499903            Yes  \n",
       "3            0.924450             No          0.845428            Yes  \n",
       "4           -0.630062             No         -1.499903            Yes  "
      ]
     },
     "execution_count": 68,
     "metadata": {},
     "output_type": "execute_result"
    }
   ],
   "source": [
    "data_z.head() #Z-score top dataset;"
   ]
  },
  {
   "cell_type": "code",
   "execution_count": 70,
   "id": "efdf7c8f-0403-4a95-87f2-be6925f36e1b",
   "metadata": {},
   "outputs": [
    {
     "data": {
      "text/html": [
       "<div>\n",
       "<style scoped>\n",
       "    .dataframe tbody tr th:only-of-type {\n",
       "        vertical-align: middle;\n",
       "    }\n",
       "\n",
       "    .dataframe tbody tr th {\n",
       "        vertical-align: top;\n",
       "    }\n",
       "\n",
       "    .dataframe thead th {\n",
       "        text-align: right;\n",
       "    }\n",
       "</style>\n",
       "<table border=\"1\" class=\"dataframe\">\n",
       "  <thead>\n",
       "    <tr style=\"text-align: right;\">\n",
       "      <th></th>\n",
       "      <th>Age</th>\n",
       "      <th>Gender</th>\n",
       "      <th>AnnualIncome</th>\n",
       "      <th>NumberOfPurchases</th>\n",
       "      <th>ProductCategory</th>\n",
       "      <th>TimeSpentOnWebsite</th>\n",
       "      <th>LoyaltyProgram</th>\n",
       "      <th>DiscountsAvailed</th>\n",
       "      <th>PurchaseStatus</th>\n",
       "    </tr>\n",
       "  </thead>\n",
       "  <tbody>\n",
       "    <tr>\n",
       "      <th>0</th>\n",
       "      <td>0.423077</td>\n",
       "      <td>Female</td>\n",
       "      <td>0.355351</td>\n",
       "      <td>0.40</td>\n",
       "      <td>Electronics</td>\n",
       "      <td>0.500925</td>\n",
       "      <td>No</td>\n",
       "      <td>1.0</td>\n",
       "      <td>Yes</td>\n",
       "    </tr>\n",
       "    <tr>\n",
       "      <th>1</th>\n",
       "      <td>0.038462</td>\n",
       "      <td>Female</td>\n",
       "      <td>0.027571</td>\n",
       "      <td>0.20</td>\n",
       "      <td>Home Goods</td>\n",
       "      <td>0.631052</td>\n",
       "      <td>No</td>\n",
       "      <td>1.0</td>\n",
       "      <td>No</td>\n",
       "    </tr>\n",
       "    <tr>\n",
       "      <th>2</th>\n",
       "      <td>0.173077</td>\n",
       "      <td>Female</td>\n",
       "      <td>0.830766</td>\n",
       "      <td>0.55</td>\n",
       "      <td>Home Goods</td>\n",
       "      <td>0.518983</td>\n",
       "      <td>Yes</td>\n",
       "      <td>0.0</td>\n",
       "      <td>Yes</td>\n",
       "    </tr>\n",
       "    <tr>\n",
       "      <th>3</th>\n",
       "      <td>0.115385</td>\n",
       "      <td>Female</td>\n",
       "      <td>0.907642</td>\n",
       "      <td>0.95</td>\n",
       "      <td>Beauty</td>\n",
       "      <td>0.765512</td>\n",
       "      <td>No</td>\n",
       "      <td>0.8</td>\n",
       "      <td>Yes</td>\n",
       "    </tr>\n",
       "    <tr>\n",
       "      <th>4</th>\n",
       "      <td>0.250000</td>\n",
       "      <td>Female</td>\n",
       "      <td>0.611013</td>\n",
       "      <td>0.95</td>\n",
       "      <td>Clothing</td>\n",
       "      <td>0.318664</td>\n",
       "      <td>No</td>\n",
       "      <td>0.0</td>\n",
       "      <td>Yes</td>\n",
       "    </tr>\n",
       "  </tbody>\n",
       "</table>\n",
       "</div>"
      ],
      "text/plain": [
       "        Age  Gender  AnnualIncome  NumberOfPurchases ProductCategory  \\\n",
       "0  0.423077  Female      0.355351               0.40     Electronics   \n",
       "1  0.038462  Female      0.027571               0.20      Home Goods   \n",
       "2  0.173077  Female      0.830766               0.55      Home Goods   \n",
       "3  0.115385  Female      0.907642               0.95          Beauty   \n",
       "4  0.250000  Female      0.611013               0.95        Clothing   \n",
       "\n",
       "   TimeSpentOnWebsite LoyaltyProgram  DiscountsAvailed PurchaseStatus  \n",
       "0            0.500925             No               1.0            Yes  \n",
       "1            0.631052             No               1.0             No  \n",
       "2            0.518983            Yes               0.0            Yes  \n",
       "3            0.765512             No               0.8            Yes  \n",
       "4            0.318664             No               0.0            Yes  "
      ]
     },
     "execution_count": 70,
     "metadata": {},
     "output_type": "execute_result"
    }
   ],
   "source": [
    "data_n.head() #MinMax Scalling top dataset;"
   ]
  },
  {
   "cell_type": "markdown",
   "id": "9157d83d-6a88-4aa8-b242-b5debc68b148",
   "metadata": {},
   "source": [
    "*10. How can the dataset be split into predictors (features) and the target variable \n",
    "(Purchase Status)?*"
   ]
  },
  {
   "cell_type": "code",
   "execution_count": 72,
   "id": "916db030-1a44-4035-8b89-8dc476f0a0a3",
   "metadata": {},
   "outputs": [],
   "source": [
    "x = data.drop(columns=[\"PurchaseStatus\"]) #Predictors\n",
    "y = data[\"PurchaseStatus\"] #Target Variable"
   ]
  },
  {
   "cell_type": "code",
   "execution_count": 74,
   "id": "d9eb0720-c155-4379-99db-ccf687ee6a0a",
   "metadata": {},
   "outputs": [
    {
     "data": {
      "text/plain": [
       "(1480, 8)"
      ]
     },
     "execution_count": 74,
     "metadata": {},
     "output_type": "execute_result"
    }
   ],
   "source": [
    "x.shape"
   ]
  },
  {
   "cell_type": "code",
   "execution_count": 76,
   "id": "d7e0fc61-2717-43a9-ade5-3d987e0e22ec",
   "metadata": {},
   "outputs": [
    {
     "data": {
      "text/plain": [
       "(1480,)"
      ]
     },
     "execution_count": 76,
     "metadata": {},
     "output_type": "execute_result"
    }
   ],
   "source": [
    "y.shape"
   ]
  },
  {
   "cell_type": "markdown",
   "id": "33d8fc01-b6c3-4960-96ba-7a6c20bcd19f",
   "metadata": {},
   "source": [
    "*11. What is the best way to split the dataset into training and testing sets?*"
   ]
  },
  {
   "cell_type": "code",
   "execution_count": 78,
   "id": "00684ee0-cf5b-4d53-a1dd-6a6a22285a4e",
   "metadata": {},
   "outputs": [],
   "source": [
    "from sklearn.model_selection import train_test_split #imported Training and testing model;\n",
    "\n",
    "x_train,x_test,y_train,y_test = train_test_split(x, y, test_size = 0.2, random_state= 42)"
   ]
  },
  {
   "cell_type": "code",
   "execution_count": 141,
   "id": "a2e2adcd-0f59-49c1-91ea-ab4ce016ab95",
   "metadata": {},
   "outputs": [
    {
     "data": {
      "text/plain": [
       "(1184, 8)"
      ]
     },
     "execution_count": 141,
     "metadata": {},
     "output_type": "execute_result"
    }
   ],
   "source": [
    "x_train.shape"
   ]
  },
  {
   "cell_type": "code",
   "execution_count": 145,
   "id": "a714b64b-de1b-41cd-9c62-f00e241349bd",
   "metadata": {},
   "outputs": [
    {
     "data": {
      "text/plain": [
       "(296, 8)"
      ]
     },
     "execution_count": 145,
     "metadata": {},
     "output_type": "execute_result"
    }
   ],
   "source": [
    "x_test.shape"
   ]
  },
  {
   "cell_type": "code",
   "execution_count": 147,
   "id": "572530ed-8fdb-4ca0-afc4-5d0c65aa2d90",
   "metadata": {},
   "outputs": [
    {
     "data": {
      "text/plain": [
       "(1184,)"
      ]
     },
     "execution_count": 147,
     "metadata": {},
     "output_type": "execute_result"
    }
   ],
   "source": [
    "y_train.shape"
   ]
  },
  {
   "cell_type": "code",
   "execution_count": 149,
   "id": "04863b9d-9cb4-4804-8f41-0f0d250ccded",
   "metadata": {},
   "outputs": [
    {
     "data": {
      "text/plain": [
       "(296,)"
      ]
     },
     "execution_count": 149,
     "metadata": {},
     "output_type": "execute_result"
    }
   ],
   "source": [
    "y_test.shape"
   ]
  },
  {
   "cell_type": "markdown",
   "id": "d0d73a51-6a73-469d-aefd-6a8904fa7dd5",
   "metadata": {},
   "source": [
    "*12. Which machine learning models would be suitable for predicting customer \n",
    "purchase behavior?*"
   ]
  },
  {
   "cell_type": "code",
   "execution_count": 80,
   "id": "ef8ed453-8399-4c95-925d-295757d624e7",
   "metadata": {},
   "outputs": [],
   "source": [
    "from sklearn.ensemble import RandomForestClassifier # imported ML Models to train and split the dataset accordingly;\n",
    "from sklearn.metrics import accuracy_score, classification_report"
   ]
  },
  {
   "cell_type": "code",
   "execution_count": 92,
   "id": "38514cd4-4d91-4e0a-8d1b-8badaf8aed51",
   "metadata": {},
   "outputs": [],
   "source": [
    "label_enc = LabelEncoder() #Used label encoder again to encode the dataset of Categorical columns;\n",
    "data[\"Gender\"] = label_enc.fit_transform(data[\"Gender\"])\n",
    "data[\"ProductCategory\"] = label_enc.fit_transform(data[\"ProductCategory\"])\n",
    "data[\"LoyaltyProgram\"] = label_enc.fit_transform(data[\"LoyaltyProgram\"])\n",
    "data[\"PurchaseStatus\"] = label_enc.fit_transform(data[\"PurchaseStatus\"])"
   ]
  },
  {
   "cell_type": "code",
   "execution_count": 84,
   "id": "2c420d3c-f131-4891-b25b-d39f7b56da1d",
   "metadata": {},
   "outputs": [],
   "source": [
    "x_train, x_test, y_train, y_test = train_test_split(x, y, test_size=0.2, random_state=42) #Train_test_split"
   ]
  },
  {
   "cell_type": "code",
   "execution_count": 88,
   "id": "a6528fd3-f14f-4d07-b406-a45681f0cd4a",
   "metadata": {},
   "outputs": [
    {
     "ename": "ValueError",
     "evalue": "could not convert string to float: 'Male'",
     "output_type": "error",
     "traceback": [
      "\u001b[0;31m---------------------------------------------------------------------------\u001b[0m",
      "\u001b[0;31mValueError\u001b[0m                                Traceback (most recent call last)",
      "\u001b[0;32m/var/folders/nf/kd7gjb6s02l017mxhtfkffl80000gn/T/ipykernel_1775/4178855682.py\u001b[0m in \u001b[0;36m?\u001b[0;34m()\u001b[0m\n\u001b[1;32m      1\u001b[0m \u001b[0mmodel\u001b[0m \u001b[0;34m=\u001b[0m \u001b[0mRandomForestClassifier\u001b[0m\u001b[0;34m(\u001b[0m\u001b[0mn_estimators\u001b[0m\u001b[0;34m=\u001b[0m\u001b[0;36m100\u001b[0m\u001b[0;34m,\u001b[0m \u001b[0mrandom_state\u001b[0m\u001b[0;34m=\u001b[0m\u001b[0;36m42\u001b[0m\u001b[0;34m)\u001b[0m \u001b[0;31m#Train Random Forest Classifier;\u001b[0m\u001b[0;34m\u001b[0m\u001b[0;34m\u001b[0m\u001b[0m\n\u001b[0;32m----> 2\u001b[0;31m \u001b[0mmodel\u001b[0m\u001b[0;34m.\u001b[0m\u001b[0mfit\u001b[0m\u001b[0;34m(\u001b[0m\u001b[0mx_train\u001b[0m\u001b[0;34m,\u001b[0m \u001b[0my_train\u001b[0m\u001b[0;34m)\u001b[0m\u001b[0;34m\u001b[0m\u001b[0;34m\u001b[0m\u001b[0m\n\u001b[0m",
      "\u001b[0;32m/opt/anaconda3/lib/python3.12/site-packages/sklearn/base.py\u001b[0m in \u001b[0;36m?\u001b[0;34m(estimator, *args, **kwargs)\u001b[0m\n\u001b[1;32m   1470\u001b[0m                 skip_parameter_validation=(\n\u001b[1;32m   1471\u001b[0m                     \u001b[0mprefer_skip_nested_validation\u001b[0m \u001b[0;32mor\u001b[0m \u001b[0mglobal_skip_validation\u001b[0m\u001b[0;34m\u001b[0m\u001b[0;34m\u001b[0m\u001b[0m\n\u001b[1;32m   1472\u001b[0m                 \u001b[0;34m)\u001b[0m\u001b[0;34m\u001b[0m\u001b[0;34m\u001b[0m\u001b[0m\n\u001b[1;32m   1473\u001b[0m             \u001b[0;34m)\u001b[0m\u001b[0;34m:\u001b[0m\u001b[0;34m\u001b[0m\u001b[0;34m\u001b[0m\u001b[0m\n\u001b[0;32m-> 1474\u001b[0;31m                 \u001b[0;32mreturn\u001b[0m \u001b[0mfit_method\u001b[0m\u001b[0;34m(\u001b[0m\u001b[0mestimator\u001b[0m\u001b[0;34m,\u001b[0m \u001b[0;34m*\u001b[0m\u001b[0margs\u001b[0m\u001b[0;34m,\u001b[0m \u001b[0;34m**\u001b[0m\u001b[0mkwargs\u001b[0m\u001b[0;34m)\u001b[0m\u001b[0;34m\u001b[0m\u001b[0;34m\u001b[0m\u001b[0m\n\u001b[0m",
      "\u001b[0;32m/opt/anaconda3/lib/python3.12/site-packages/sklearn/ensemble/_forest.py\u001b[0m in \u001b[0;36m?\u001b[0;34m(self, X, y, sample_weight)\u001b[0m\n\u001b[1;32m    359\u001b[0m         \u001b[0;31m# Validate or convert input data\u001b[0m\u001b[0;34m\u001b[0m\u001b[0;34m\u001b[0m\u001b[0m\n\u001b[1;32m    360\u001b[0m         \u001b[0;32mif\u001b[0m \u001b[0missparse\u001b[0m\u001b[0;34m(\u001b[0m\u001b[0my\u001b[0m\u001b[0;34m)\u001b[0m\u001b[0;34m:\u001b[0m\u001b[0;34m\u001b[0m\u001b[0;34m\u001b[0m\u001b[0m\n\u001b[1;32m    361\u001b[0m             \u001b[0;32mraise\u001b[0m \u001b[0mValueError\u001b[0m\u001b[0;34m(\u001b[0m\u001b[0;34m\"sparse multilabel-indicator for y is not supported.\"\u001b[0m\u001b[0;34m)\u001b[0m\u001b[0;34m\u001b[0m\u001b[0;34m\u001b[0m\u001b[0m\n\u001b[1;32m    362\u001b[0m \u001b[0;34m\u001b[0m\u001b[0m\n\u001b[0;32m--> 363\u001b[0;31m         X, y = self._validate_data(\n\u001b[0m\u001b[1;32m    364\u001b[0m             \u001b[0mX\u001b[0m\u001b[0;34m,\u001b[0m\u001b[0;34m\u001b[0m\u001b[0;34m\u001b[0m\u001b[0m\n\u001b[1;32m    365\u001b[0m             \u001b[0my\u001b[0m\u001b[0;34m,\u001b[0m\u001b[0;34m\u001b[0m\u001b[0;34m\u001b[0m\u001b[0m\n\u001b[1;32m    366\u001b[0m             \u001b[0mmulti_output\u001b[0m\u001b[0;34m=\u001b[0m\u001b[0;32mTrue\u001b[0m\u001b[0;34m,\u001b[0m\u001b[0;34m\u001b[0m\u001b[0;34m\u001b[0m\u001b[0m\n",
      "\u001b[0;32m/opt/anaconda3/lib/python3.12/site-packages/sklearn/base.py\u001b[0m in \u001b[0;36m?\u001b[0;34m(self, X, y, reset, validate_separately, cast_to_ndarray, **check_params)\u001b[0m\n\u001b[1;32m    646\u001b[0m                 \u001b[0;32mif\u001b[0m \u001b[0;34m\"estimator\"\u001b[0m \u001b[0;32mnot\u001b[0m \u001b[0;32min\u001b[0m \u001b[0mcheck_y_params\u001b[0m\u001b[0;34m:\u001b[0m\u001b[0;34m\u001b[0m\u001b[0;34m\u001b[0m\u001b[0m\n\u001b[1;32m    647\u001b[0m                     \u001b[0mcheck_y_params\u001b[0m \u001b[0;34m=\u001b[0m \u001b[0;34m{\u001b[0m\u001b[0;34m**\u001b[0m\u001b[0mdefault_check_params\u001b[0m\u001b[0;34m,\u001b[0m \u001b[0;34m**\u001b[0m\u001b[0mcheck_y_params\u001b[0m\u001b[0;34m}\u001b[0m\u001b[0;34m\u001b[0m\u001b[0;34m\u001b[0m\u001b[0m\n\u001b[1;32m    648\u001b[0m                 \u001b[0my\u001b[0m \u001b[0;34m=\u001b[0m \u001b[0mcheck_array\u001b[0m\u001b[0;34m(\u001b[0m\u001b[0my\u001b[0m\u001b[0;34m,\u001b[0m \u001b[0minput_name\u001b[0m\u001b[0;34m=\u001b[0m\u001b[0;34m\"y\"\u001b[0m\u001b[0;34m,\u001b[0m \u001b[0;34m**\u001b[0m\u001b[0mcheck_y_params\u001b[0m\u001b[0;34m)\u001b[0m\u001b[0;34m\u001b[0m\u001b[0;34m\u001b[0m\u001b[0m\n\u001b[1;32m    649\u001b[0m             \u001b[0;32melse\u001b[0m\u001b[0;34m:\u001b[0m\u001b[0;34m\u001b[0m\u001b[0;34m\u001b[0m\u001b[0m\n\u001b[0;32m--> 650\u001b[0;31m                 \u001b[0mX\u001b[0m\u001b[0;34m,\u001b[0m \u001b[0my\u001b[0m \u001b[0;34m=\u001b[0m \u001b[0mcheck_X_y\u001b[0m\u001b[0;34m(\u001b[0m\u001b[0mX\u001b[0m\u001b[0;34m,\u001b[0m \u001b[0my\u001b[0m\u001b[0;34m,\u001b[0m \u001b[0;34m**\u001b[0m\u001b[0mcheck_params\u001b[0m\u001b[0;34m)\u001b[0m\u001b[0;34m\u001b[0m\u001b[0;34m\u001b[0m\u001b[0m\n\u001b[0m\u001b[1;32m    651\u001b[0m             \u001b[0mout\u001b[0m \u001b[0;34m=\u001b[0m \u001b[0mX\u001b[0m\u001b[0;34m,\u001b[0m \u001b[0my\u001b[0m\u001b[0;34m\u001b[0m\u001b[0;34m\u001b[0m\u001b[0m\n\u001b[1;32m    652\u001b[0m \u001b[0;34m\u001b[0m\u001b[0m\n\u001b[1;32m    653\u001b[0m         \u001b[0;32mif\u001b[0m \u001b[0;32mnot\u001b[0m \u001b[0mno_val_X\u001b[0m \u001b[0;32mand\u001b[0m \u001b[0mcheck_params\u001b[0m\u001b[0;34m.\u001b[0m\u001b[0mget\u001b[0m\u001b[0;34m(\u001b[0m\u001b[0;34m\"ensure_2d\"\u001b[0m\u001b[0;34m,\u001b[0m \u001b[0;32mTrue\u001b[0m\u001b[0;34m)\u001b[0m\u001b[0;34m:\u001b[0m\u001b[0;34m\u001b[0m\u001b[0;34m\u001b[0m\u001b[0m\n",
      "\u001b[0;32m/opt/anaconda3/lib/python3.12/site-packages/sklearn/utils/validation.py\u001b[0m in \u001b[0;36m?\u001b[0;34m(X, y, accept_sparse, accept_large_sparse, dtype, order, copy, force_all_finite, ensure_2d, allow_nd, multi_output, ensure_min_samples, ensure_min_features, y_numeric, estimator)\u001b[0m\n\u001b[1;32m   1259\u001b[0m         raise ValueError(\n\u001b[1;32m   1260\u001b[0m             \u001b[0;34mf\"\u001b[0m\u001b[0;34m{\u001b[0m\u001b[0mestimator_name\u001b[0m\u001b[0;34m}\u001b[0m\u001b[0;34m requires y to be passed, but the target y is None\u001b[0m\u001b[0;34m\"\u001b[0m\u001b[0;34m\u001b[0m\u001b[0;34m\u001b[0m\u001b[0m\n\u001b[1;32m   1261\u001b[0m         \u001b[0;34m)\u001b[0m\u001b[0;34m\u001b[0m\u001b[0;34m\u001b[0m\u001b[0m\n\u001b[1;32m   1262\u001b[0m \u001b[0;34m\u001b[0m\u001b[0m\n\u001b[0;32m-> 1263\u001b[0;31m     X = check_array(\n\u001b[0m\u001b[1;32m   1264\u001b[0m         \u001b[0mX\u001b[0m\u001b[0;34m,\u001b[0m\u001b[0;34m\u001b[0m\u001b[0;34m\u001b[0m\u001b[0m\n\u001b[1;32m   1265\u001b[0m         \u001b[0maccept_sparse\u001b[0m\u001b[0;34m=\u001b[0m\u001b[0maccept_sparse\u001b[0m\u001b[0;34m,\u001b[0m\u001b[0;34m\u001b[0m\u001b[0;34m\u001b[0m\u001b[0m\n\u001b[1;32m   1266\u001b[0m         \u001b[0maccept_large_sparse\u001b[0m\u001b[0;34m=\u001b[0m\u001b[0maccept_large_sparse\u001b[0m\u001b[0;34m,\u001b[0m\u001b[0;34m\u001b[0m\u001b[0;34m\u001b[0m\u001b[0m\n",
      "\u001b[0;32m/opt/anaconda3/lib/python3.12/site-packages/sklearn/utils/validation.py\u001b[0m in \u001b[0;36m?\u001b[0;34m(array, accept_sparse, accept_large_sparse, dtype, order, copy, force_all_finite, ensure_2d, allow_nd, ensure_min_samples, ensure_min_features, estimator, input_name)\u001b[0m\n\u001b[1;32m    994\u001b[0m                         \u001b[0;34m)\u001b[0m\u001b[0;34m\u001b[0m\u001b[0;34m\u001b[0m\u001b[0m\n\u001b[1;32m    995\u001b[0m                     \u001b[0marray\u001b[0m \u001b[0;34m=\u001b[0m \u001b[0mxp\u001b[0m\u001b[0;34m.\u001b[0m\u001b[0mastype\u001b[0m\u001b[0;34m(\u001b[0m\u001b[0marray\u001b[0m\u001b[0;34m,\u001b[0m \u001b[0mdtype\u001b[0m\u001b[0;34m,\u001b[0m \u001b[0mcopy\u001b[0m\u001b[0;34m=\u001b[0m\u001b[0;32mFalse\u001b[0m\u001b[0;34m)\u001b[0m\u001b[0;34m\u001b[0m\u001b[0;34m\u001b[0m\u001b[0m\n\u001b[1;32m    996\u001b[0m                 \u001b[0;32melse\u001b[0m\u001b[0;34m:\u001b[0m\u001b[0;34m\u001b[0m\u001b[0;34m\u001b[0m\u001b[0m\n\u001b[1;32m    997\u001b[0m                     \u001b[0marray\u001b[0m \u001b[0;34m=\u001b[0m \u001b[0m_asarray_with_order\u001b[0m\u001b[0;34m(\u001b[0m\u001b[0marray\u001b[0m\u001b[0;34m,\u001b[0m \u001b[0morder\u001b[0m\u001b[0;34m=\u001b[0m\u001b[0morder\u001b[0m\u001b[0;34m,\u001b[0m \u001b[0mdtype\u001b[0m\u001b[0;34m=\u001b[0m\u001b[0mdtype\u001b[0m\u001b[0;34m,\u001b[0m \u001b[0mxp\u001b[0m\u001b[0;34m=\u001b[0m\u001b[0mxp\u001b[0m\u001b[0;34m)\u001b[0m\u001b[0;34m\u001b[0m\u001b[0;34m\u001b[0m\u001b[0m\n\u001b[0;32m--> 998\u001b[0;31m             \u001b[0;32mexcept\u001b[0m \u001b[0mComplexWarning\u001b[0m \u001b[0;32mas\u001b[0m \u001b[0mcomplex_warning\u001b[0m\u001b[0;34m:\u001b[0m\u001b[0;34m\u001b[0m\u001b[0;34m\u001b[0m\u001b[0m\n\u001b[0m\u001b[1;32m    999\u001b[0m                 raise ValueError(\n\u001b[1;32m   1000\u001b[0m                     \u001b[0;34m\"Complex data not supported\\n{}\\n\"\u001b[0m\u001b[0;34m.\u001b[0m\u001b[0mformat\u001b[0m\u001b[0;34m(\u001b[0m\u001b[0marray\u001b[0m\u001b[0;34m)\u001b[0m\u001b[0;34m\u001b[0m\u001b[0;34m\u001b[0m\u001b[0m\n\u001b[1;32m   1001\u001b[0m                 \u001b[0;34m)\u001b[0m \u001b[0;32mfrom\u001b[0m \u001b[0mcomplex_warning\u001b[0m\u001b[0;34m\u001b[0m\u001b[0;34m\u001b[0m\u001b[0m\n",
      "\u001b[0;32m/opt/anaconda3/lib/python3.12/site-packages/sklearn/utils/_array_api.py\u001b[0m in \u001b[0;36m?\u001b[0;34m(array, dtype, order, copy, xp)\u001b[0m\n\u001b[1;32m    517\u001b[0m         \u001b[0;31m# Use NumPy API to support order\u001b[0m\u001b[0;34m\u001b[0m\u001b[0;34m\u001b[0m\u001b[0m\n\u001b[1;32m    518\u001b[0m         \u001b[0;32mif\u001b[0m \u001b[0mcopy\u001b[0m \u001b[0;32mis\u001b[0m \u001b[0;32mTrue\u001b[0m\u001b[0;34m:\u001b[0m\u001b[0;34m\u001b[0m\u001b[0;34m\u001b[0m\u001b[0m\n\u001b[1;32m    519\u001b[0m             \u001b[0marray\u001b[0m \u001b[0;34m=\u001b[0m \u001b[0mnumpy\u001b[0m\u001b[0;34m.\u001b[0m\u001b[0marray\u001b[0m\u001b[0;34m(\u001b[0m\u001b[0marray\u001b[0m\u001b[0;34m,\u001b[0m \u001b[0morder\u001b[0m\u001b[0;34m=\u001b[0m\u001b[0morder\u001b[0m\u001b[0;34m,\u001b[0m \u001b[0mdtype\u001b[0m\u001b[0;34m=\u001b[0m\u001b[0mdtype\u001b[0m\u001b[0;34m)\u001b[0m\u001b[0;34m\u001b[0m\u001b[0;34m\u001b[0m\u001b[0m\n\u001b[1;32m    520\u001b[0m         \u001b[0;32melse\u001b[0m\u001b[0;34m:\u001b[0m\u001b[0;34m\u001b[0m\u001b[0;34m\u001b[0m\u001b[0m\n\u001b[0;32m--> 521\u001b[0;31m             \u001b[0marray\u001b[0m \u001b[0;34m=\u001b[0m \u001b[0mnumpy\u001b[0m\u001b[0;34m.\u001b[0m\u001b[0masarray\u001b[0m\u001b[0;34m(\u001b[0m\u001b[0marray\u001b[0m\u001b[0;34m,\u001b[0m \u001b[0morder\u001b[0m\u001b[0;34m=\u001b[0m\u001b[0morder\u001b[0m\u001b[0;34m,\u001b[0m \u001b[0mdtype\u001b[0m\u001b[0;34m=\u001b[0m\u001b[0mdtype\u001b[0m\u001b[0;34m)\u001b[0m\u001b[0;34m\u001b[0m\u001b[0;34m\u001b[0m\u001b[0m\n\u001b[0m\u001b[1;32m    522\u001b[0m \u001b[0;34m\u001b[0m\u001b[0m\n\u001b[1;32m    523\u001b[0m         \u001b[0;31m# At this point array is a NumPy ndarray. We convert it to an array\u001b[0m\u001b[0;34m\u001b[0m\u001b[0;34m\u001b[0m\u001b[0m\n\u001b[1;32m    524\u001b[0m         \u001b[0;31m# container that is consistent with the input's namespace.\u001b[0m\u001b[0;34m\u001b[0m\u001b[0;34m\u001b[0m\u001b[0m\n",
      "\u001b[0;32m/opt/anaconda3/lib/python3.12/site-packages/pandas/core/generic.py\u001b[0m in \u001b[0;36m?\u001b[0;34m(self, dtype, copy)\u001b[0m\n\u001b[1;32m   2149\u001b[0m     def __array__(\n\u001b[1;32m   2150\u001b[0m         \u001b[0mself\u001b[0m\u001b[0;34m,\u001b[0m \u001b[0mdtype\u001b[0m\u001b[0;34m:\u001b[0m \u001b[0mnpt\u001b[0m\u001b[0;34m.\u001b[0m\u001b[0mDTypeLike\u001b[0m \u001b[0;34m|\u001b[0m \u001b[0;32mNone\u001b[0m \u001b[0;34m=\u001b[0m \u001b[0;32mNone\u001b[0m\u001b[0;34m,\u001b[0m \u001b[0mcopy\u001b[0m\u001b[0;34m:\u001b[0m \u001b[0mbool_t\u001b[0m \u001b[0;34m|\u001b[0m \u001b[0;32mNone\u001b[0m \u001b[0;34m=\u001b[0m \u001b[0;32mNone\u001b[0m\u001b[0;34m\u001b[0m\u001b[0;34m\u001b[0m\u001b[0m\n\u001b[1;32m   2151\u001b[0m     \u001b[0;34m)\u001b[0m \u001b[0;34m->\u001b[0m \u001b[0mnp\u001b[0m\u001b[0;34m.\u001b[0m\u001b[0mndarray\u001b[0m\u001b[0;34m:\u001b[0m\u001b[0;34m\u001b[0m\u001b[0;34m\u001b[0m\u001b[0m\n\u001b[1;32m   2152\u001b[0m         \u001b[0mvalues\u001b[0m \u001b[0;34m=\u001b[0m \u001b[0mself\u001b[0m\u001b[0;34m.\u001b[0m\u001b[0m_values\u001b[0m\u001b[0;34m\u001b[0m\u001b[0;34m\u001b[0m\u001b[0m\n\u001b[0;32m-> 2153\u001b[0;31m         \u001b[0marr\u001b[0m \u001b[0;34m=\u001b[0m \u001b[0mnp\u001b[0m\u001b[0;34m.\u001b[0m\u001b[0masarray\u001b[0m\u001b[0;34m(\u001b[0m\u001b[0mvalues\u001b[0m\u001b[0;34m,\u001b[0m \u001b[0mdtype\u001b[0m\u001b[0;34m=\u001b[0m\u001b[0mdtype\u001b[0m\u001b[0;34m)\u001b[0m\u001b[0;34m\u001b[0m\u001b[0;34m\u001b[0m\u001b[0m\n\u001b[0m\u001b[1;32m   2154\u001b[0m         if (\n\u001b[1;32m   2155\u001b[0m             \u001b[0mastype_is_view\u001b[0m\u001b[0;34m(\u001b[0m\u001b[0mvalues\u001b[0m\u001b[0;34m.\u001b[0m\u001b[0mdtype\u001b[0m\u001b[0;34m,\u001b[0m \u001b[0marr\u001b[0m\u001b[0;34m.\u001b[0m\u001b[0mdtype\u001b[0m\u001b[0;34m)\u001b[0m\u001b[0;34m\u001b[0m\u001b[0;34m\u001b[0m\u001b[0m\n\u001b[1;32m   2156\u001b[0m             \u001b[0;32mand\u001b[0m \u001b[0musing_copy_on_write\u001b[0m\u001b[0;34m(\u001b[0m\u001b[0;34m)\u001b[0m\u001b[0;34m\u001b[0m\u001b[0;34m\u001b[0m\u001b[0m\n",
      "\u001b[0;31mValueError\u001b[0m: could not convert string to float: 'Male'"
     ]
    }
   ],
   "source": [
    "model = RandomForestClassifier(n_estimators=100, random_state=42) #Train Random Forest Classifier;\n",
    "model.fit(x_train, y_train)"
   ]
  },
  {
   "cell_type": "code",
   "execution_count": 90,
   "id": "3d9b4d02-3234-4ccb-a341-b9de41b87558",
   "metadata": {},
   "outputs": [
    {
     "ename": "AttributeError",
     "evalue": "'RandomForestClassifier' object has no attribute 'estimators_'",
     "output_type": "error",
     "traceback": [
      "\u001b[0;31m---------------------------------------------------------------------------\u001b[0m",
      "\u001b[0;31mAttributeError\u001b[0m                            Traceback (most recent call last)",
      "Cell \u001b[0;32mIn[90], line 1\u001b[0m\n\u001b[0;32m----> 1\u001b[0m pred_made \u001b[38;5;241m=\u001b[39m model\u001b[38;5;241m.\u001b[39mpredict(x_test)\n",
      "File \u001b[0;32m/opt/anaconda3/lib/python3.12/site-packages/sklearn/ensemble/_forest.py:905\u001b[0m, in \u001b[0;36mForestClassifier.predict\u001b[0;34m(self, X)\u001b[0m\n\u001b[1;32m    884\u001b[0m \u001b[38;5;28;01mdef\u001b[39;00m \u001b[38;5;21mpredict\u001b[39m(\u001b[38;5;28mself\u001b[39m, X):\n\u001b[1;32m    885\u001b[0m \u001b[38;5;250m    \u001b[39m\u001b[38;5;124;03m\"\"\"\u001b[39;00m\n\u001b[1;32m    886\u001b[0m \u001b[38;5;124;03m    Predict class for X.\u001b[39;00m\n\u001b[1;32m    887\u001b[0m \n\u001b[0;32m   (...)\u001b[0m\n\u001b[1;32m    903\u001b[0m \u001b[38;5;124;03m        The predicted classes.\u001b[39;00m\n\u001b[1;32m    904\u001b[0m \u001b[38;5;124;03m    \"\"\"\u001b[39;00m\n\u001b[0;32m--> 905\u001b[0m     proba \u001b[38;5;241m=\u001b[39m \u001b[38;5;28mself\u001b[39m\u001b[38;5;241m.\u001b[39mpredict_proba(X)\n\u001b[1;32m    907\u001b[0m     \u001b[38;5;28;01mif\u001b[39;00m \u001b[38;5;28mself\u001b[39m\u001b[38;5;241m.\u001b[39mn_outputs_ \u001b[38;5;241m==\u001b[39m \u001b[38;5;241m1\u001b[39m:\n\u001b[1;32m    908\u001b[0m         \u001b[38;5;28;01mreturn\u001b[39;00m \u001b[38;5;28mself\u001b[39m\u001b[38;5;241m.\u001b[39mclasses_\u001b[38;5;241m.\u001b[39mtake(np\u001b[38;5;241m.\u001b[39margmax(proba, axis\u001b[38;5;241m=\u001b[39m\u001b[38;5;241m1\u001b[39m), axis\u001b[38;5;241m=\u001b[39m\u001b[38;5;241m0\u001b[39m)\n",
      "File \u001b[0;32m/opt/anaconda3/lib/python3.12/site-packages/sklearn/ensemble/_forest.py:947\u001b[0m, in \u001b[0;36mForestClassifier.predict_proba\u001b[0;34m(self, X)\u001b[0m\n\u001b[1;32m    945\u001b[0m check_is_fitted(\u001b[38;5;28mself\u001b[39m)\n\u001b[1;32m    946\u001b[0m \u001b[38;5;66;03m# Check data\u001b[39;00m\n\u001b[0;32m--> 947\u001b[0m X \u001b[38;5;241m=\u001b[39m \u001b[38;5;28mself\u001b[39m\u001b[38;5;241m.\u001b[39m_validate_X_predict(X)\n\u001b[1;32m    949\u001b[0m \u001b[38;5;66;03m# Assign chunk of trees to jobs\u001b[39;00m\n\u001b[1;32m    950\u001b[0m n_jobs, _, _ \u001b[38;5;241m=\u001b[39m _partition_estimators(\u001b[38;5;28mself\u001b[39m\u001b[38;5;241m.\u001b[39mn_estimators, \u001b[38;5;28mself\u001b[39m\u001b[38;5;241m.\u001b[39mn_jobs)\n",
      "File \u001b[0;32m/opt/anaconda3/lib/python3.12/site-packages/sklearn/ensemble/_forest.py:636\u001b[0m, in \u001b[0;36mBaseForest._validate_X_predict\u001b[0;34m(self, X)\u001b[0m\n\u001b[1;32m    633\u001b[0m \u001b[38;5;250m\u001b[39m\u001b[38;5;124;03m\"\"\"\u001b[39;00m\n\u001b[1;32m    634\u001b[0m \u001b[38;5;124;03mValidate X whenever one tries to predict, apply, predict_proba.\"\"\"\u001b[39;00m\n\u001b[1;32m    635\u001b[0m check_is_fitted(\u001b[38;5;28mself\u001b[39m)\n\u001b[0;32m--> 636\u001b[0m \u001b[38;5;28;01mif\u001b[39;00m \u001b[38;5;28mself\u001b[39m\u001b[38;5;241m.\u001b[39mestimators_[\u001b[38;5;241m0\u001b[39m]\u001b[38;5;241m.\u001b[39m_support_missing_values(X):\n\u001b[1;32m    637\u001b[0m     force_all_finite \u001b[38;5;241m=\u001b[39m \u001b[38;5;124m\"\u001b[39m\u001b[38;5;124mallow-nan\u001b[39m\u001b[38;5;124m\"\u001b[39m\n\u001b[1;32m    638\u001b[0m \u001b[38;5;28;01melse\u001b[39;00m:\n",
      "\u001b[0;31mAttributeError\u001b[0m: 'RandomForestClassifier' object has no attribute 'estimators_'"
     ]
    }
   ],
   "source": [
    "pred_made = model.predict(x_test) #Made Predictions here;"
   ]
  },
  {
   "cell_type": "code",
   "execution_count": 190,
   "id": "f4dcff09-e214-43ba-aa20-d1dc5c4d847c",
   "metadata": {},
   "outputs": [
    {
     "data": {
      "text/plain": [
       "array([0, 1, 1, 1, 1, 1, 0, 0, 0, 1, 0, 1, 1, 1, 1, 0, 0, 1, 1, 0, 0, 0,\n",
       "       1, 0, 0, 0, 1, 0, 1, 1, 0, 0, 0, 0, 0, 0, 0, 0, 0, 1, 0, 1, 0, 0,\n",
       "       1, 0, 0, 1, 0, 1, 0, 1, 0, 1, 1, 0, 1, 0, 0, 1, 0, 1, 0, 1, 0, 0,\n",
       "       1, 0, 1, 0, 0, 0, 1, 1, 0, 0, 1, 1, 0, 1, 0, 0, 1, 0, 0, 1, 0, 0,\n",
       "       0, 0, 0, 0, 1, 0, 0, 1, 0, 1, 0, 1, 0, 1, 0, 1, 0, 0, 1, 0, 1, 0,\n",
       "       0, 0, 1, 0, 0, 0, 0, 1, 1, 0, 1, 0, 1, 0, 0, 0, 0, 0, 0, 0, 1, 0,\n",
       "       0, 0, 0, 1, 0, 0, 0, 1, 0, 0, 0, 1, 1, 0, 0, 1, 0, 0, 0, 1, 1, 0,\n",
       "       0, 0, 1, 0, 0, 0, 1, 1, 1, 1, 0, 1, 1, 0, 1, 0, 1, 0, 0, 0, 1, 0,\n",
       "       0, 1, 0, 0, 1, 0, 0, 1, 0, 0, 0, 1, 1, 0, 1, 0, 0, 1, 0, 1, 1, 1,\n",
       "       0, 0, 0, 0, 0, 1, 0, 0, 1, 1, 0, 1, 0, 1, 0, 0, 0, 1, 1, 0, 1, 1,\n",
       "       0, 0, 1, 1, 1, 0, 0, 1, 1, 0, 1, 0, 1, 1, 0, 1, 1, 0, 0, 0, 1, 0,\n",
       "       0, 1, 0, 1, 0, 1, 0, 0, 0, 0, 0, 0, 1, 0, 0, 1, 1, 1, 1, 0, 1, 0,\n",
       "       0, 0, 0, 0, 1, 0, 1, 1, 0, 0, 0, 0, 0, 1, 0, 0, 1, 0, 0, 0, 1, 0,\n",
       "       1, 1, 0, 0, 0, 0, 0, 0, 1, 0])"
      ]
     },
     "execution_count": 190,
     "metadata": {},
     "output_type": "execute_result"
    }
   ],
   "source": [
    "pred_made"
   ]
  },
  {
   "cell_type": "markdown",
   "id": "e14abb5c-5757-493b-967d-9d4947ad8341",
   "metadata": {},
   "source": [
    "*13. How can the performance of the model be evaluated to determine its accuracy?*"
   ]
  },
  {
   "cell_type": "code",
   "execution_count": 196,
   "id": "e9e2b15e-4b24-46ee-9ecb-323c08f66aa2",
   "metadata": {},
   "outputs": [],
   "source": [
    "accuracy = accuracy_score(y_test, pred_made) #Determing the accuracy;"
   ]
  },
  {
   "cell_type": "code",
   "execution_count": 198,
   "id": "f66e06fe-3b61-4d13-a839-0ecb6f964f15",
   "metadata": {},
   "outputs": [
    {
     "data": {
      "text/plain": [
       "0.9459459459459459"
      ]
     },
     "execution_count": 198,
     "metadata": {},
     "output_type": "execute_result"
    }
   ],
   "source": [
    "accuracy"
   ]
  },
  {
   "cell_type": "markdown",
   "id": "baa6bb4c-a0df-42a2-a5de-a4c9a6d83d2e",
   "metadata": {},
   "source": [
    "*14. What techniques can be applied to improve the model's performance through \n",
    "hyperparameter tuning or advanced algorithms?*"
   ]
  },
  {
   "cell_type": "code",
   "execution_count": 3,
   "id": "b7f77698-760b-424c-ae4b-d73882e166aa",
   "metadata": {},
   "outputs": [],
   "source": [
    "from sklearn.model_selection import GridSearchCV  #Imported GridSearchCV to Use hyperparameter tuning;\n",
    "\n",
    "param_grid = {     #Defining Parameter Grid\n",
    "    'n_estimators': [50, 100, 200],\n",
    "    'max_depth': [None, 10, 20],\n",
    "    'min_samples_split': [2, 5, 10],\n",
    "    'min_samples_leaf': [1, 2, 4]\n",
    "}"
   ]
  },
  {
   "cell_type": "code",
   "execution_count": 4,
   "id": "1f823a6c-d0dc-42cd-a6dd-238d3c2d77e8",
   "metadata": {},
   "outputs": [
    {
     "ename": "NameError",
     "evalue": "name 'RandomForestClassifier' is not defined",
     "output_type": "error",
     "traceback": [
      "\u001b[0;31m---------------------------------------------------------------------------\u001b[0m",
      "\u001b[0;31mNameError\u001b[0m                                 Traceback (most recent call last)",
      "Cell \u001b[0;32mIn[4], line 1\u001b[0m\n\u001b[0;32m----> 1\u001b[0m grid_searching \u001b[38;5;241m=\u001b[39m GridSearchCV(RandomForestClassifier(random_state\u001b[38;5;241m=\u001b[39m\u001b[38;5;241m42\u001b[39m), param_grid, cv\u001b[38;5;241m=\u001b[39m\u001b[38;5;241m5\u001b[39m, scoring\u001b[38;5;241m=\u001b[39m\u001b[38;5;124m'\u001b[39m\u001b[38;5;124maccuracy\u001b[39m\u001b[38;5;124m'\u001b[39m, n_jobs\u001b[38;5;241m=\u001b[39m\u001b[38;5;241m-\u001b[39m\u001b[38;5;241m1\u001b[39m)\n\u001b[1;32m      2\u001b[0m grid_searching\u001b[38;5;241m.\u001b[39mfit(x_train, y_train)\n",
      "\u001b[0;31mNameError\u001b[0m: name 'RandomForestClassifier' is not defined"
     ]
    }
   ],
   "source": [
    "grid_searching = GridSearchCV(RandomForestClassifier(random_state=42), param_grid, cv=5, scoring='accuracy', n_jobs=-1)\n",
    "grid_searching.fit(x_train, y_train)   # Performing Grid Search"
   ]
  },
  {
   "cell_type": "markdown",
   "id": "1d5eb547-4358-4391-82de-d0186f82b201",
   "metadata": {},
   "source": [
    "**Model Performances**"
   ]
  },
  {
   "cell_type": "code",
   "execution_count": 209,
   "id": "037197b4-95ef-407c-9ce9-765f812362e6",
   "metadata": {},
   "outputs": [
    {
     "data": {
      "text/plain": [
       "0.9205964385325037"
      ]
     },
     "execution_count": 209,
     "metadata": {},
     "output_type": "execute_result"
    }
   ],
   "source": [
    "grid_searching.best_score_   #(As i didnt know much about it so i took help from my old notes.)"
   ]
  },
  {
   "cell_type": "code",
   "execution_count": null,
   "id": "4e540e9a-416f-470a-aea0-b0671f3a362b",
   "metadata": {},
   "outputs": [],
   "source": []
  }
 ],
 "metadata": {
  "kernelspec": {
   "display_name": "Python 3 (ipykernel)",
   "language": "python",
   "name": "python3"
  },
  "language_info": {
   "codemirror_mode": {
    "name": "ipython",
    "version": 3
   },
   "file_extension": ".py",
   "mimetype": "text/x-python",
   "name": "python",
   "nbconvert_exporter": "python",
   "pygments_lexer": "ipython3",
   "version": "3.12.4"
  }
 },
 "nbformat": 4,
 "nbformat_minor": 5
}
